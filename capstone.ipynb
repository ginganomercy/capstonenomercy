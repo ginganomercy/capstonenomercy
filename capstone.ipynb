{
 "cells": [
  {
   "cell_type": "markdown",
   "metadata": {
    "id": "F1YjENI601_l"
   },
   "source": [
    "# Import Library"
   ]
  },
  {
   "cell_type": "code",
   "execution_count": 129,
   "metadata": {
    "id": "QBp7t4QYyI4U"
   },
   "outputs": [],
   "source": [
    "import pandas as pd\n",
    "import numpy as np\n",
    "import matplotlib.pyplot as plt\n",
    "import seaborn as sns\n",
    "\n",
    "from sklearn.model_selection import train_test_split, GridSearchCV\n",
    "from sklearn.preprocessing import StandardScaler\n",
    "from sklearn.metrics import accuracy_score, classification_report, confusion_matrix\n",
    "from sklearn.ensemble import RandomForestClassifier\n",
    "from imblearn.over_sampling import SMOTE\n",
    "from sklearn.svm import SVC"
   ]
  },
  {
   "cell_type": "markdown",
   "metadata": {
    "id": "M_H4vEPEDqqR"
   },
   "source": [
    "# Preprocessing Data"
   ]
  },
  {
   "cell_type": "code",
   "execution_count": 55,
   "metadata": {
    "id": "EKdpa2aSzoYv"
   },
   "outputs": [],
   "source": [
    "# LOAD & PREPROCESSING DATASET PIMA\n",
    "pima = pd.read_csv(\"diabetes.csv\")"
   ]
  },
  {
   "cell_type": "code",
   "execution_count": 56,
   "metadata": {
    "id": "ADhFnBde55Jd"
   },
   "outputs": [],
   "source": [
    "# Ganti nilai 0 (yang artinya missing) dengan NaN\n",
    "cols_to_fix = ['Glucose', 'BloodPressure', 'SkinThickness', 'Insulin', 'BMI']\n",
    "pima[cols_to_fix] = pima[cols_to_fix].replace(0, np.nan)"
   ]
  },
  {
   "cell_type": "code",
   "execution_count": 57,
   "metadata": {
    "id": "ocJAHw66zvi8"
   },
   "outputs": [],
   "source": [
    "# Isi missing value Pima dengan median\n",
    "pima[cols_to_fix] = pima[cols_to_fix].fillna(pima[cols_to_fix].median())"
   ]
  },
  {
   "cell_type": "code",
   "execution_count": 58,
   "metadata": {
    "id": "3gpXJT4b0ZFK"
   },
   "outputs": [],
   "source": [
    "# LOAD & PREPROCESSING DATASET NHANES\n",
    "nhanes = pd.read_csv(\"NHANES_age_prediction.csv\")"
   ]
  },
  {
   "cell_type": "code",
   "execution_count": 59,
   "metadata": {
    "id": "ZDGday6f7PcP"
   },
   "outputs": [],
   "source": [
    "# Ambil kolom relevan & ubah nama agar sesuai dengan Pima\n",
    "nhanes_clean = nhanes[['RIDAGEYR', 'BMXBMI', 'LBXGLU', 'LBXIN', 'DIQ010']].copy()\n",
    "nhanes_clean = nhanes_clean.rename(columns={\n",
    "    'RIDAGEYR': 'Age',\n",
    "    'BMXBMI': 'BMI',\n",
    "    'LBXGLU': 'Glucose',\n",
    "    'LBXIN': 'Insulin',\n",
    "    'DIQ010': 'Outcome'\n",
    "})"
   ]
  },
  {
   "cell_type": "code",
   "execution_count": 60,
   "metadata": {
    "id": "KLGWBr5A7fyU"
   },
   "outputs": [],
   "source": [
    "# Konversi label NHANES (1 = diabetes, 2/3 = bukan diabetes)\n",
    "nhanes_clean['Outcome'] = nhanes_clean['Outcome'].replace({2: 0, 3: 0})"
   ]
  },
  {
   "cell_type": "code",
   "execution_count": 61,
   "metadata": {
    "id": "t7dad91fD-eM"
   },
   "outputs": [],
   "source": [
    "# Tambahkan kolom kosong agar strukturnya seragam dengan Pima\n",
    "nhanes_clean['Pregnancies'] = 0\n",
    "nhanes_clean['BloodPressure'] = np.nan\n",
    "nhanes_clean['SkinThickness'] = np.nan\n",
    "nhanes_clean['DiabetesPedigreeFunction'] = 0.5  # nilai asumsi default"
   ]
  },
  {
   "cell_type": "code",
   "execution_count": 62,
   "metadata": {
    "id": "erfKrKPq2wG_"
   },
   "outputs": [],
   "source": [
    "# Susun ulang kolom\n",
    "column_order = ['Pregnancies', 'Glucose', 'BloodPressure', 'SkinThickness',\n",
    "                'Insulin', 'BMI', 'DiabetesPedigreeFunction', 'Age', 'Outcome']\n",
    "nhanes_clean = nhanes_clean[column_order]"
   ]
  },
  {
   "cell_type": "code",
   "execution_count": 63,
   "metadata": {
    "id": "QQLEu7PD20SL"
   },
   "outputs": [],
   "source": [
    "# Isi missing values NHANES dengan median\n",
    "nhanes_clean[cols_to_fix] = nhanes_clean[cols_to_fix].fillna(nhanes_clean[cols_to_fix].median())"
   ]
  },
  {
   "cell_type": "code",
   "execution_count": 64,
   "metadata": {
    "colab": {
     "base_uri": "https://localhost:8080/",
     "height": 206
    },
    "id": "TI80lxBV5YyD",
    "outputId": "aebc0efa-6b9f-41ce-a86f-494cc3e487bc"
   },
   "outputs": [
    {
     "data": {
      "text/html": [
       "<div>\n",
       "<style scoped>\n",
       "    .dataframe tbody tr th:only-of-type {\n",
       "        vertical-align: middle;\n",
       "    }\n",
       "\n",
       "    .dataframe tbody tr th {\n",
       "        vertical-align: top;\n",
       "    }\n",
       "\n",
       "    .dataframe thead th {\n",
       "        text-align: right;\n",
       "    }\n",
       "</style>\n",
       "<table border=\"1\" class=\"dataframe\">\n",
       "  <thead>\n",
       "    <tr style=\"text-align: right;\">\n",
       "      <th></th>\n",
       "      <th>Pregnancies</th>\n",
       "      <th>Glucose</th>\n",
       "      <th>BloodPressure</th>\n",
       "      <th>SkinThickness</th>\n",
       "      <th>Insulin</th>\n",
       "      <th>BMI</th>\n",
       "      <th>DiabetesPedigreeFunction</th>\n",
       "      <th>Age</th>\n",
       "      <th>Outcome</th>\n",
       "    </tr>\n",
       "  </thead>\n",
       "  <tbody>\n",
       "    <tr>\n",
       "      <th>0</th>\n",
       "      <td>6</td>\n",
       "      <td>148.0</td>\n",
       "      <td>72.0</td>\n",
       "      <td>35.0</td>\n",
       "      <td>125.0</td>\n",
       "      <td>33.6</td>\n",
       "      <td>0.627</td>\n",
       "      <td>50.0</td>\n",
       "      <td>1.0</td>\n",
       "    </tr>\n",
       "    <tr>\n",
       "      <th>1</th>\n",
       "      <td>1</td>\n",
       "      <td>85.0</td>\n",
       "      <td>66.0</td>\n",
       "      <td>29.0</td>\n",
       "      <td>125.0</td>\n",
       "      <td>26.6</td>\n",
       "      <td>0.351</td>\n",
       "      <td>31.0</td>\n",
       "      <td>0.0</td>\n",
       "    </tr>\n",
       "    <tr>\n",
       "      <th>2</th>\n",
       "      <td>8</td>\n",
       "      <td>183.0</td>\n",
       "      <td>64.0</td>\n",
       "      <td>29.0</td>\n",
       "      <td>125.0</td>\n",
       "      <td>23.3</td>\n",
       "      <td>0.672</td>\n",
       "      <td>32.0</td>\n",
       "      <td>1.0</td>\n",
       "    </tr>\n",
       "    <tr>\n",
       "      <th>3</th>\n",
       "      <td>1</td>\n",
       "      <td>89.0</td>\n",
       "      <td>66.0</td>\n",
       "      <td>23.0</td>\n",
       "      <td>94.0</td>\n",
       "      <td>28.1</td>\n",
       "      <td>0.167</td>\n",
       "      <td>21.0</td>\n",
       "      <td>0.0</td>\n",
       "    </tr>\n",
       "    <tr>\n",
       "      <th>4</th>\n",
       "      <td>0</td>\n",
       "      <td>137.0</td>\n",
       "      <td>40.0</td>\n",
       "      <td>35.0</td>\n",
       "      <td>168.0</td>\n",
       "      <td>43.1</td>\n",
       "      <td>2.288</td>\n",
       "      <td>33.0</td>\n",
       "      <td>1.0</td>\n",
       "    </tr>\n",
       "  </tbody>\n",
       "</table>\n",
       "</div>"
      ],
      "text/plain": [
       "   Pregnancies  Glucose  BloodPressure  SkinThickness  Insulin   BMI  \\\n",
       "0            6    148.0           72.0           35.0    125.0  33.6   \n",
       "1            1     85.0           66.0           29.0    125.0  26.6   \n",
       "2            8    183.0           64.0           29.0    125.0  23.3   \n",
       "3            1     89.0           66.0           23.0     94.0  28.1   \n",
       "4            0    137.0           40.0           35.0    168.0  43.1   \n",
       "\n",
       "   DiabetesPedigreeFunction   Age  Outcome  \n",
       "0                     0.627  50.0      1.0  \n",
       "1                     0.351  31.0      0.0  \n",
       "2                     0.672  32.0      1.0  \n",
       "3                     0.167  21.0      0.0  \n",
       "4                     2.288  33.0      1.0  "
      ]
     },
     "execution_count": 64,
     "metadata": {},
     "output_type": "execute_result"
    }
   ],
   "source": [
    "# GABUNGKAN DATASET PIMA + NHANES\n",
    "combined_df = pd.concat([pima, nhanes_clean], ignore_index=True)\n",
    "combined_df.head()\n",
    "# combined_df.info()"
   ]
  },
  {
   "cell_type": "code",
   "execution_count": 65,
   "metadata": {
    "id": "Kg8HofsR4RnL"
   },
   "outputs": [],
   "source": [
    "# TANGANI OUTLIER DENGAN METODE IQR\n",
    "def remove_outliers_iqr(df, columns):\n",
    "    for col in columns:\n",
    "        Q1 = df[col].quantile(0.25)\n",
    "        Q3 = df[col].quantile(0.75)\n",
    "        IQR = Q3 - Q1\n",
    "        lower = Q1 - 1.5 * IQR\n",
    "        upper = Q3 + 1.5 * IQR\n",
    "        df = df[(df[col] >= lower) & (df[col] <= upper)]\n",
    "    return df\n",
    "\n",
    "combined_df = remove_outliers_iqr(combined_df, cols_to_fix + ['Age'])"
   ]
  },
  {
   "cell_type": "code",
   "execution_count": 66,
   "metadata": {
    "id": "2qhKVAWVFd8G"
   },
   "outputs": [],
   "source": [
    "# PISAHKAN FITUR & TARGET\n",
    "X = combined_df.drop(columns='Outcome') #features\n",
    "y = combined_df['Outcome'] # only outcome that is to be predicted"
   ]
  },
  {
   "cell_type": "code",
   "execution_count": 67,
   "metadata": {
    "id": "JGFSP3Dk4W-6"
   },
   "outputs": [],
   "source": [
    "# FEATURE SCALING\n",
    "scaler = StandardScaler()\n",
    "X_scaled = scaler.fit_transform(X)"
   ]
  },
  {
   "cell_type": "code",
   "execution_count": 68,
   "metadata": {
    "id": "FjedJGYV1klO"
   },
   "outputs": [],
   "source": [
    "# SMOTE (balancing)\n",
    "smote = SMOTE(random_state=42)\n",
    "X_bal, y_bal = smote.fit_resample(X_scaled, y)"
   ]
  },
  {
   "cell_type": "code",
   "execution_count": 69,
   "metadata": {
    "id": "QtNpGJ1-zalE"
   },
   "outputs": [],
   "source": [
    "# SPLIT DATA\n",
    "X_train, X_test, y_train, y_test = train_test_split(\n",
    "    X_scaled, y, test_size=0.2, stratify=y, random_state=42\n",
    ")"
   ]
  },
  {
   "cell_type": "markdown",
   "metadata": {
    "id": "XXxPNULy5hyq"
   },
   "source": [
    "#  Training Model ML"
   ]
  },
  {
   "cell_type": "code",
   "execution_count": 71,
   "metadata": {
    "colab": {
     "base_uri": "https://localhost:8080/"
    },
    "id": "BbsyCMqD4Zck",
    "outputId": "dbf3051b-34f7-43b3-891a-bf74d66e2651"
   },
   "outputs": [
    {
     "name": "stdout",
     "output_type": "stream",
     "text": [
      "Fitting 3 folds for each of 81 candidates, totalling 243 fits\n"
     ]
    }
   ],
   "source": [
    "# Hyperparameter tuning untuk RandomForest menggunakan GridSearchCV\n",
    "param_grid = {\n",
    "    'n_estimators': [100, 200, 300],\n",
    "    'max_depth': [10, 15, 20],\n",
    "    'min_samples_split': [2, 5, 10],\n",
    "    'min_samples_leaf': [1, 2, 4]\n",
    "}\n",
    "\n",
    "rf = RandomForestClassifier(random_state=42)\n",
    "grid_search = GridSearchCV(estimator=rf, param_grid=param_grid, cv=3, n_jobs=-1, verbose=2)\n",
    "grid_search.fit(X_train, y_train)\n",
    "\n",
    "# Pilih model terbaik\n",
    "best_rf = grid_search.best_estimator_\n",
    "\n",
    "# Prediksi\n",
    "y_pred = best_rf.predict(X_test)"
   ]
  },
  {
   "cell_type": "markdown",
   "metadata": {
    "id": "Fyfy7v7CEhtr"
   },
   "source": [
    "# Evaluasi Model"
   ]
  },
  {
   "cell_type": "code",
   "execution_count": 73,
   "metadata": {
    "colab": {
     "base_uri": "https://localhost:8080/",
     "height": 636
    },
    "id": "vOkX5UMIEjAv",
    "outputId": "576f5754-d758-4df1-9e9b-9b882038d9b6"
   },
   "outputs": [
    {
     "name": "stdout",
     "output_type": "stream",
     "text": [
      "=== EVALUASI MODEL ===\n",
      "Akurasi: 76.71 %\n",
      "\n",
      "Classification Report:\n",
      "               precision    recall  f1-score   support\n",
      "\n",
      "         0.0       0.78      0.96      0.86        56\n",
      "         1.0       0.50      0.12      0.19        17\n",
      "\n",
      "    accuracy                           0.77        73\n",
      "   macro avg       0.64      0.54      0.53        73\n",
      "weighted avg       0.72      0.77      0.71        73\n",
      "\n"
     ]
    },
    {
     "data": {
      "image/png": "[encoded data removed]",
      "text/plain": [
       "<Figure size 600x400 with 2 Axes>"
      ]
     },
     "metadata": {},
     "output_type": "display_data"
    }
   ],
   "source": [
    "# Evaluasi\n",
    "print(\"=== EVALUASI MODEL ===\")\n",
    "print(\"Akurasi:\", round(accuracy_score(y_test, y_pred) * 100, 2), \"%\")\n",
    "print(\"\\nClassification Report:\\n\", classification_report(y_test, y_pred))\n",
    "\n",
    "# Confusion Matrix\n",
    "cm = confusion_matrix(y_test, y_pred)\n",
    "labels = ['Tidak Diabetes', 'Diabetes']\n",
    "\n",
    "plt.figure(figsize=(6, 4))\n",
    "sns.heatmap(cm, annot=True, fmt='d', cmap='Blues',\n",
    "            xticklabels=labels, yticklabels=labels)\n",
    "plt.xlabel('Predicted')\n",
    "plt.ylabel('Actual')\n",
    "plt.title('Confusion Matrix')\n",
    "plt.show()"
   ]
  },
  {
   "cell_type": "markdown",
   "metadata": {
    "id": "PVwdZLuxjCqa"
   },
   "source": [
    "# Feature Selection"
   ]
  },
  {
   "cell_type": "code",
   "execution_count": 75,
   "metadata": {
    "colab": {
     "base_uri": "https://localhost:8080/"
    },
    "id": "ESO-lgShjQcQ",
    "outputId": "ad0665bb-a47c-48c5-f95c-7e27190c82b2"
   },
   "outputs": [
    {
     "name": "stdout",
     "output_type": "stream",
     "text": [
      "Fitur yang dipilih dengan Wrapper Methods: [1 5 6 7]\n"
     ]
    }
   ],
   "source": [
    "# Menggunakan RFE (Recursive Feature Elimination)\n",
    "\n",
    "from sklearn.feature_selection import RFE\n",
    "model = RandomForestClassifier(random_state=42)\n",
    "rfe_selector = RFE(estimator=model, n_features_to_select=4)  # Memilih 2 fitur\n",
    "X_train_rfe = rfe_selector.fit_transform(X_train, y_train)\n",
    "X_test_rfe = rfe_selector.transform(X_test)\n",
    "\n",
    "print(\"Fitur yang dipilih dengan Wrapper Methods:\", rfe_selector.get_support(indices=True))"
   ]
  },
  {
   "cell_type": "markdown",
   "metadata": {
    "id": "wUBRvjq9jTHq"
   },
   "source": [
    "# Tuning Hyperparameter"
   ]
  },
  {
   "cell_type": "code",
   "execution_count": 77,
   "metadata": {
    "colab": {
     "base_uri": "https://localhost:8080/"
    },
    "id": "0-e_alssjhXQ",
    "outputId": "6eeedfd9-dedf-44c5-b14f-32805ba3c60e"
   },
   "outputs": [
    {
     "name": "stdout",
     "output_type": "stream",
     "text": [
      "Fitting 3 folds for each of 81 candidates, totalling 243 fits\n"
     ]
    }
   ],
   "source": [
    "param_grid = {\n",
    "    'n_estimators': [100, 200, 300],\n",
    "    'max_depth': [10, 15, 20],\n",
    "    'min_samples_split': [2, 5, 10],\n",
    "    'min_samples_leaf': [1, 2, 4]\n",
    "}\n",
    "\n",
    "grid_search = GridSearchCV(estimator=model, param_grid=param_grid, cv=3, n_jobs=-1, verbose=2)\n",
    "grid_search.fit(X_train_rfe, y_train)\n",
    "\n",
    "# Pilih model terbaik\n",
    "best_rf_rfe = grid_search.best_estimator_\n",
    "\n",
    "# Prediksi\n",
    "y_pred_rfe = best_rf_rfe.predict(X_test_rfe)"
   ]
  },
  {
   "cell_type": "code",
   "execution_count": 78,
   "metadata": {
    "colab": {
     "base_uri": "https://localhost:8080/",
     "height": 636
    },
    "id": "rvJ-lWGi7rSj",
    "outputId": "f2ecbf8d-1f7f-494e-9517-5f75f708d2c5",
    "scrolled": true
   },
   "outputs": [
    {
     "name": "stdout",
     "output_type": "stream",
     "text": [
      "=== EVALUASI MODEL ===\n",
      "Akurasi: 80.82 %\n",
      "\n",
      "Classification Report:\n",
      "               precision    recall  f1-score   support\n",
      "\n",
      "         0.0       0.83      0.95      0.88        56\n",
      "         1.0       0.67      0.35      0.46        17\n",
      "\n",
      "    accuracy                           0.81        73\n",
      "   macro avg       0.75      0.65      0.67        73\n",
      "weighted avg       0.79      0.81      0.79        73\n",
      "\n"
     ]
    },
    {
     "data": {
      "image/png": "[encoded data removed]",
      "text/plain": [
       "<Figure size 600x400 with 2 Axes>"
      ]
     },
     "metadata": {},
     "output_type": "display_data"
    }
   ],
   "source": [
    "# Evaluasi\n",
    "print(\"=== EVALUASI MODEL ===\")\n",
    "print(\"Akurasi:\", round(accuracy_score(y_test, y_pred_rfe) * 100, 2), \"%\")\n",
    "print(\"\\nClassification Report:\\n\", classification_report(y_test, y_pred_rfe))\n",
    "\n",
    "# Confusion Matrix\n",
    "cm = confusion_matrix(y_test, y_pred_rfe)\n",
    "labels = ['Tidak Diabetes', 'Diabetes']\n",
    "\n",
    "plt.figure(figsize=(6, 4))\n",
    "sns.heatmap(cm, annot=True, fmt='d', cmap='Blues',\n",
    "            xticklabels=labels, yticklabels=labels)\n",
    "plt.xlabel('Predicted')\n",
    "plt.ylabel('Actual')\n",
    "plt.title('Confusion Matrix')\n",
    "plt.show()"
   ]
  },
  {
   "cell_type": "markdown",
   "metadata": {},
   "source": [
    "# Eksperimen Model Alternatif"
   ]
  },
  {
   "cell_type": "code",
   "execution_count": 80,
   "metadata": {
    "scrolled": true
   },
   "outputs": [
    {
     "name": "stdout",
     "output_type": "stream",
     "text": [
      "\n",
      "=== EVALUASI MODEL SVM ===\n",
      "Akurasi SVM: 79.45 %\n",
      "\n",
      "Classification Report SVM:\n",
      "               precision    recall  f1-score   support\n",
      "\n",
      "         0.0       0.81      0.96      0.88        56\n",
      "         1.0       0.67      0.24      0.35        17\n",
      "\n",
      "    accuracy                           0.79        73\n",
      "   macro avg       0.74      0.60      0.61        73\n",
      "weighted avg       0.77      0.79      0.75        73\n",
      "\n"
     ]
    },
    {
     "data": {
      "image/png": "[encoded data removed]",
      "text/plain": [
       "<Figure size 600x400 with 2 Axes>"
      ]
     },
     "metadata": {},
     "output_type": "display_data"
    }
   ],
   "source": [
    "# Eksperimen Model Alternatif - Support Vector Machine\n",
    "\n",
    "# Inisialisasi model SVM\n",
    "svm_model = SVC(random_state=42)\n",
    "\n",
    "# Latih model SVM menggunakan data training yang sudah melalui feature selection\n",
    "# Jika Anda ingin melatih pada data X_scaled (tanpa feature selection), ganti X_train_rfe menjadi X_train\n",
    "svm_model.fit(X_train_rfe, y_train)\n",
    "\n",
    "# Prediksi menggunakan model SVM\n",
    "y_pred_svm = svm_model.predict(X_test_rfe)\n",
    "\n",
    "# Evaluasi model SVM\n",
    "print(\"\\n=== EVALUASI MODEL SVM ===\")\n",
    "print(\"Akurasi SVM:\", round(accuracy_score(y_test, y_pred_svm) * 100, 2), \"%\")\n",
    "print(\"\\nClassification Report SVM:\\n\", classification_report(y_test, y_pred_svm))\n",
    "\n",
    "# Confusion Matrix untuk model SVM\n",
    "cm_svm = confusion_matrix(y_test, y_pred_svm)\n",
    "\n",
    "plt.figure(figsize=(6, 4))\n",
    "sns.heatmap(cm_svm, annot=True, fmt='d', cmap='Blues',\n",
    "            xticklabels=labels, yticklabels=labels)\n",
    "plt.xlabel('Predicted')\n",
    "plt.ylabel('Actual')\n",
    "plt.title('Confusion Matrix - SVM')\n",
    "plt.show()"
   ]
  },
  {
   "cell_type": "code",
   "execution_count": 108,
   "metadata": {},
   "outputs": [
    {
     "name": "stdout",
     "output_type": "stream",
     "text": [
      "Fitting 3 folds for each of 27 candidates, totalling 81 fits\n",
      "\n",
      "Hyperparameter terbaik untuk Gradient Boosting Classifier:\n",
      "{'learning_rate': 0.01, 'max_depth': 3, 'n_estimators': 100}\n",
      "\n",
      "=== EVALUASI MODEL GRADIENT BOOSTING TERBAIK ===\n",
      "Akurasi GB Terbaik: 80.82 %\n",
      "\n",
      "Classification Report GB Terbaik:\n",
      "               precision    recall  f1-score   support\n",
      "\n",
      "         0.0       0.81      0.98      0.89        56\n",
      "         1.0       0.80      0.24      0.36        17\n",
      "\n",
      "    accuracy                           0.81        73\n",
      "   macro avg       0.80      0.61      0.63        73\n",
      "weighted avg       0.81      0.81      0.77        73\n",
      "\n"
     ]
    },
    {
     "data": {
      "image/png": "[encoded data removed]",
      "text/plain": [
       "<Figure size 600x400 with 2 Axes>"
      ]
     },
     "metadata": {},
     "output_type": "display_data"
    }
   ],
   "source": [
    "# Eksperimen dengan Gradient Boosting Classifier\n",
    "\n",
    "from sklearn.ensemble import GradientBoostingClassifier\n",
    "\n",
    "# Definisikan rentang hyperparameter untuk Gradient Boosting\n",
    "# Ini adalah contoh param_grid, Anda mungkin perlu menyesuaikannya\n",
    "param_grid_gb = {\n",
    "    'n_estimators': [50, 100, 200], # Number of boosting stages\n",
    "    'learning_rate': [0.01, 0.1, 0.2], # Step size shrinkage\n",
    "    'max_depth': [3, 5, 7]          # Maximum depth of the individual estimators\n",
    "}\n",
    "\n",
    "# Inisialisasi model Gradient Boosting\n",
    "gb_model_grid = GradientBoostingClassifier(random_state=42)\n",
    "\n",
    "# Inisialisasi GridSearchCV untuk Gradient Boosting\n",
    "grid_search_gb = GridSearchCV(estimator=gb_model_grid, param_grid=param_grid_gb,\n",
    "                              cv=3, n_jobs=-1, verbose=2)\n",
    "\n",
    "# Lakukan tuning pada data training (gunakan data RFE jika sebelumnya digunakan)\n",
    "# Jika Anda ingin tuning pada data X_scaled (tanpa feature selection), ganti X_train_rfe menjadi X_train\n",
    "grid_search_gb.fit(X_train_rfe, y_train)\n",
    "\n",
    "# Pilih model Gradient Boosting terbaik hasil tuning\n",
    "best_gb = grid_search_gb.best_estimator_\n",
    "\n",
    "print(\"\\nHyperparameter terbaik untuk Gradient Boosting Classifier:\")\n",
    "print(grid_search_gb.best_params_)\n",
    "\n",
    "# Prediksi menggunakan model Gradient Boosting terbaik\n",
    "y_pred_best_gb = best_gb.predict(X_test_rfe)\n",
    "\n",
    "# Evaluasi model Gradient Boosting terbaik\n",
    "print(\"\\n=== EVALUASI MODEL GRADIENT BOOSTING TERBAIK ===\")\n",
    "print(\"Akurasi GB Terbaik:\", round(accuracy_score(y_test, y_pred_best_gb) * 100, 2), \"%\")\n",
    "print(\"\\nClassification Report GB Terbaik:\\n\", classification_report(y_test, y_pred_best_gb))\n",
    "\n",
    "# Confusion Matrix untuk model Gradient Boosting terbaik\n",
    "cm_best_gb = confusion_matrix(y_test, y_pred_best_gb)\n",
    "\n",
    "plt.figure(figsize=(6, 4))\n",
    "sns.heatmap(cm_best_gb, annot=True, fmt='d', cmap='Blues',\n",
    "            xticklabels=labels, yticklabels=labels)\n",
    "plt.xlabel('Predicted')\n",
    "plt.ylabel('Actual')\n",
    "plt.title('Confusion Matrix - Best Gradient Boosting')\n",
    "plt.show()"
   ]
  },
  {
   "cell_type": "markdown",
   "metadata": {},
   "source": [
    "# Validasi dan Testing Akurasi Model"
   ]
  },
  {
   "cell_type": "code",
   "execution_count": 110,
   "metadata": {},
   "outputs": [
    {
     "name": "stdout",
     "output_type": "stream",
     "text": [
      "\n",
      "=== EVALUASI MODEL RANDOM FOREST TERBAIK PADA DATA TEST ===\n",
      "Akurasi: 80.82 %\n",
      "\n",
      "Classification Report:\n",
      "               precision    recall  f1-score   support\n",
      "\n",
      "         0.0       0.83      0.95      0.88        56\n",
      "         1.0       0.67      0.35      0.46        17\n",
      "\n",
      "    accuracy                           0.81        73\n",
      "   macro avg       0.75      0.65      0.67        73\n",
      "weighted avg       0.79      0.81      0.79        73\n",
      "\n"
     ]
    },
    {
     "data": {
      "image/png": "[encoded data removed]",
      "text/plain": [
       "<Figure size 600x400 with 2 Axes>"
      ]
     },
     "metadata": {},
     "output_type": "display_data"
    }
   ],
   "source": [
    "# Prediksi menggunakan model Random Forest terbaik (hasil tuning dan feature selection)\n",
    "y_pred_rfe = best_rf_rfe.predict(X_test_rfe)\n",
    "\n",
    "# Evaluasi Model Final pada Data Test\n",
    "print(\"\\n=== EVALUASI MODEL RANDOM FOREST TERBAIK PADA DATA TEST ===\")\n",
    "print(\"Akurasi:\", round(accuracy_score(y_test, y_pred_rfe) * 100, 2), \"%\")\n",
    "print(\"\\nClassification Report:\\n\", classification_report(y_test, y_pred_rfe))\n",
    "\n",
    "# Confusion Matrix pada Data Test\n",
    "cm = confusion_matrix(y_test, y_pred_rfe)\n",
    "labels = ['Tidak Diabetes', 'Diabetes']\n",
    "\n",
    "plt.figure(figsize=(6, 4))\n",
    "sns.heatmap(cm, annot=True, fmt='d', cmap='Blues',\n",
    "            xticklabels=labels, yticklabels=labels)\n",
    "plt.xlabel('Predicted')\n",
    "plt.ylabel('Actual')\n",
    "plt.title('Confusion Matrix - Random Forest Best Model (Test Set)')\n",
    "plt.show()"
   ]
  },
  {
   "cell_type": "markdown",
   "metadata": {},
   "source": [
    "# Dokumentasi ML"
   ]
  },
  {
   "cell_type": "markdown",
   "metadata": {},
   "source": [
    "# Dokumentasi Model Machine Learning Deteksi Diabetes\n",
    "\n",
    "Ini adalah dokumentasi untuk model machine learning yang dikembangkan untuk mendeteksi potensi diabetes berdasarkan data kesehatan.\n",
    "\n",
    "## 1. Detail Data\n",
    "\n",
    "### Sumber Data\n",
    "\n",
    "Proyek ini menggunakan kombinasi dua dataset:\n",
    "\n",
    "-   **Dataset Pima Indian Diabetes:** Dataset klasik yang sering digunakan untuk masalah klasifikasi diabetes. Diperoleh dari sumber publik (misalnya, UCI Machine Learning Repository). Dataset ini berisi data kesehatan wanita keturunan Indian Pima.\n",
    "-   **Dataset NHANES (National Health and Nutrition Examination Survey):** Data survei kesehatan dari CDC (Centers for Disease Control and Prevention) di Amerika Serikat. Kami menggunakan subset data yang relevan untuk prediksi usia, namun kolom-kolom yang serupa dengan dataset Pima dipilih dan disesuaikan. Diperoleh dari situs CDC NHANES.\n",
    "\n",
    "### Pembersihan dan Pra-pemrosesan Data\n",
    "\n",
    "Langkah-langkah pra-pemrosesan data meliputi:\n",
    "\n",
    "1.  **Loading Data:** Kedua dataset (`diabetes.csv` dan `NHANES_age_prediction.csv`) dimuat menggunakan `pandas`.\n",
    "2.  **Penanganan Nilai 0:** Pada dataset Pima, nilai `0` pada kolom `Glucose`, `BloodPressure`, `SkinThickness`, `Insulin`, dan `BMI` dianggap sebagai nilai yang hilang dan diganti dengan `NaN` (`Not a Number`) menggunakan `numpy.nan`.\n",
    "3.  **Imputasi Missing Values:** Nilai `NaN` pada kolom-kolom yang relevan di kedua dataset diisi menggunakan **median** dari masing-masing kolom. Median dipilih karena kurang sensitif terhadap outlier dibandingkan mean.\n",
    "4.  **Penyesuaian Dataset NHANES:**\n",
    "    *   Hanya kolom yang relevan (`RIDAGEYR`, `BMXBMI`, `LBXGLU`, `LBXIN`, `DIQ010`) yang diambil.\n",
    "    *   Nama kolom disesuaikan agar seragam dengan dataset Pima (`Age`, `BMI`, `Glucose`, `Insulin`, `Outcome`).\n",
    "    *   Kolom target `Outcome` dikonversi: `1` (diabetes) tetap `1`, sementara `2` dan `3` (bukan diabetes) dikonversi menjadi `0`.\n",
    "    *   Kolom tambahan seperti `Pregnancies`, `BloodPressure`, dan `SkinThickness` ditambahkan ke dataset NHANES dengan nilai awal `0` atau `NaN` agar strukturnya sama dengan Pima. Kolom `DiabetesPedigreeFunction` ditambahkan dengan nilai default `0.5` (nilai asumsi).\n",
    "    *   Urutan kolom diseragamkan.\n",
    "    *   Missing values pada kolom yang relevan (`Glucose`, `BloodPressure`, `SkinThickness`, `Insulin`, `BMI`) diisi dengan median dari dataset NHANES yang sudah disesuaikan.\n",
    "5.  **Penggabungan Dataset:** Kedua dataset (Pima dan NHANES yang sudah disesuaikan) digabungkan menjadi satu DataFrame (`combined_df`) menggunakan `pd.concat`.\n",
    "6.  **Penanganan Outlier:** Outlier pada kolom `Glucose`, `BloodPressure`, `SkinThickness`, `Insulin`, `BMI`, dan `Age` ditangani menggunakan metode **Interquartile Range (IQR)**. Data point yang berada di luar rentang `Q1 - 1.5*IQR` dan `Q3 + 1.5*IQR` dihapus dari dataset.\n",
    "7.  **Pemisahan Fitur dan Target:** Dataset dibagi menjadi fitur (`X`) dan variabel target (`y`, yaitu kolom `Outcome`).\n",
    "8.  **Feature Scaling:** Fitur (`X`) diskalakan menggunakan `StandardScaler` untuk menstandarkan nilainya (rata-rata 0 dan variansi 1). Ini penting untuk beberapa model machine learning yang sensitif terhadap skala fitur.\n",
    "9.  **Penanganan Ketidakseimbangan Kelas (SMOTE):** Data training yang sudah diskalakan di-resample menggunakan **SMOTE (Synthetic Minority Over-sampling Technique)** untuk mengatasi ketidakseimbangan antara jumlah sampel kelas 'Diabetes' (1) dan 'Tidak Diabetes' (0). *Catatan: Dalam kode Anda, SMOTE diterapkan pada data X_scaled dan y, tetapi model kemudian dilatih pada data yang tidak di-resample oleh SMOTE (X_train, y_train). Jika SMOTE ingin digunakan, model harus dilatih pada X_bal, y_bal atau X_train_bal, y_train_bal setelah split.* **Untuk akurasi dokumentasi berdasarkan kode yang dieksekusi, kita fokus pada alur tanpa SMOTE di langkah training final.**\n",
    "10. **Pemisahan Data Training dan Testing:** Data yang sudah diskalakan dibagi menjadi set training (80%) dan testing (20%) menggunakan `train_test_split` dengan `stratify=y` untuk menjaga proporsi kelas di kedua set dan `random_state=42` untuk reproduksibilitas.\n",
    "\n",
    "## 2. Model yang Dipilih\n",
    "\n",
    "Kami memilih untuk menggunakan **Random Forest Classifier** sebagai model utama karena kemampuannya menangani data non-linear, relatif tahan terhadap overfitting (dengan tuning yang tepat), dan memberikan informasi penting mengenai fitur (feature importance).\n",
    "\n",
    "### Arsitektur\n",
    "\n",
    "Random Forest adalah *ensemble method* yang membangun banyak pohon keputusan independen selama fase training dan menghasilkan prediksi yang merupakan mode (klasifikasi) atau rata-rata (regresi) dari prediksi pohon-pohon individu.\n",
    "\n",
    "### Hyperparameter Tuning\n",
    "\n",
    "Hyperparameter model `RandomForestClassifier` dituning menggunakan **Grid Search with Cross-Validation (GridSearchCV)**. Rentang parameter yang dieksplorasi adalah:\n",
    "\n",
    "-   `n_estimators`: [100, 200, 300] (Jumlah pohon dalam forest)\n",
    "-   `max_depth`: [10, 15, 20] (Kedalaman maksimum setiap pohon)\n",
    "-   `min_samples_split`: [2, 5, 10] (Jumlah minimum sampel yang diperlukan untuk memecah sebuah node internal)\n",
    "-   `min_samples_leaf`: [1, 2, 4] (Jumlah minimum sampel yang diperlukan di node daun)\n",
    "\n",
    "Metode `GridSearchCV` menggunakan 3-fold cross-validation (`cv=3`) pada set data training untuk mencari kombinasi hyperparameter yang memberikan performa terbaik. Model terbaik yang ditemukan oleh `GridSearchCV` disimpan sebagai `best_rf`.\n",
    "\n",
    "## 3. Feature Selection\n",
    "\n",
    "Setelah mendapatkan model Random Forest awal, dilakukan **Feature Selection** menggunakan **Recursive Feature Elimination (RFE)**. RFE bekerja dengan melatih model (di sini, Random Forest) berulang kali dan menghapus fitur dengan bobot paling rendah pada setiap iterasi, hingga jumlah fitur yang diinginkan tercapai.\n",
    "\n",
    "Dalam kasus ini, RFE dikonfigurasi untuk memilih **4 fitur terbaik** (`n_features_to_select=4`) berdasarkan model Random Forest. Model Random Forest yang digunakan dalam RFE diinisialisasi terpisah dengan `random_state=42`.\n",
    "\n",
    "Data training dan testing kemudian ditransformasi (`fit_transform` pada training, `transform` pada testing) untuk hanya menyertakan 4 fitur yang dipilih oleh RFE.\n",
    "\n",
    "## 4. Tuning Hyperparameter (dengan Fitur Terpilih)\n",
    "\n",
    "Model `RandomForestClassifier` kembali dituning menggunakan **GridSearchCV**, tetapi kali ini dilatih dan dievaluasi pada data training yang hanya berisi 4 fitur terpilih (`X_train_rfe`, `y_train`).\n",
    "\n",
    "`param_grid` yang digunakan sama seperti sebelumnya:\n",
    "\n",
    "-   `n_estimators`: [100, 200, 300]\n",
    "-   `max_depth`: [10, 15, 20]\n",
    "-   `min_samples_split`: [2, 5, 10]\n",
    "-   `min_samples_leaf`: [1, 2, 4]\n",
    "\n",
    "Model terbaik dari proses tuning ini, yang dilatih pada 4 fitur terpilih, disimpan sebagai `best_rf_rfe`. Model inilah yang dianggap sebagai model final dan digunakan untuk evaluasi akhir.\n",
    "\n",
    "## 5. Hasil Eksperimen dan Evaluasi Kinerja Model\n",
    "\n",
    "Model final (`best_rf_rfe`) dievaluasi pada set data test (`X_test_rfe`, `y_test`) yang sepenuhnya terpisah. Metrik evaluasi utama meliputi:\n",
    "\n",
    "-   **Akurasi:** Proporsi prediksi yang benar.\n",
    "-   **Classification Report:** Meliputi Precision, Recall, F1-score, dan Support untuk setiap kelas.\n",
    "-   **Confusion Matrix:** Tabel yang menunjukkan jumlah True Positives (TP), True Negatives (TN), False Positives (FP), dan False Negatives (FN).\n",
    "\n",
    "**Hasil Evaluasi pada Data Test:**\n",
    "\n",
    "=== EVALUASI MODEL RANDOM FOREST TERBAIK PADA DATA TEST ===\n",
    "Akurasi: 80.82 %\n",
    "\n",
    "Classification Report:\n",
    "               precision    recall  f1-score   support\n",
    "\n",
    "         0.0       0.83      0.95      0.88        56\n",
    "         1.0       0.67      0.35      0.46        17\n",
    "\n",
    "    accuracy                           0.81        73\n",
    "   macro avg       0.75      0.65      0.67        73\n",
    "weighted avg       0.79      0.81      0.79        73\n",
    "\n"
   ]
  },
  {
   "cell_type": "markdown",
   "metadata": {},
   "source": [
    "# Menyimpan Model ke .pkl"
   ]
  },
  {
   "cell_type": "code",
   "execution_count": 127,
   "metadata": {},
   "outputs": [
    {
     "name": "stdout",
     "output_type": "stream",
     "text": [
      "Model disimpan ke: model_artifacts\\best_random_forest_model_rfe.pkl\n",
      "Scaler disimpan ke: model_artifacts\\scaler.pkl\n",
      "RFE Selector disimpan ke: model_artifacts\\rfe_selector.pkl\n",
      "\n",
      "Semua artefak model berhasil disimpan.\n"
     ]
    }
   ],
   "source": [
    "# Simpan Model, Scaler, dan RFE Selector Menggunakan Joblib\n",
    "\n",
    "import joblib\n",
    "import os # Mengimpor modul os untuk memastikan direktori ada\n",
    "\n",
    "# Definisikan direktori untuk menyimpan artefak\n",
    "output_dir = 'model_artifacts'\n",
    "os.makedirs(output_dir, exist_ok=True) # Buat direktori jika belum ada\n",
    "\n",
    "# Simpan model Random Forest terbaik (setelah tuning dan dilatih pada data RFE)\n",
    "model_filename = os.path.join(output_dir, 'best_random_forest_model_rfe.pkl')\n",
    "joblib.dump(best_rf_rfe, model_filename)\n",
    "\n",
    "print(f\"Model disimpan ke: {model_filename}\")\n",
    "\n",
    "# Simpan scaler yang digunakan untuk scaling fitur\n",
    "scaler_filename = os.path.join(output_dir, 'scaler.pkl')\n",
    "joblib.dump(scaler, scaler_filename)\n",
    "\n",
    "print(f\"Scaler disimpan ke: {scaler_filename}\")\n",
    "\n",
    "# Simpan RFE selector yang digunakan untuk memilih fitur\n",
    "rfe_selector_filename = os.path.join(output_dir, 'rfe_selector.pkl')\n",
    "joblib.dump(rfe_selector, rfe_selector_filename)\n",
    "\n",
    "print(f\"RFE Selector disimpan ke: {rfe_selector_filename}\")\n",
    "\n",
    "print(\"\\nSemua artefak model berhasil disimpan.\")"
   ]
  },
  {
   "cell_type": "markdown",
   "metadata": {
    "id": "f6rCMCxFjUqQ"
   },
   "source": [
    "# Integrasi Model ke API"
   ]
  },
  {
   "cell_type": "code",
   "execution_count": null,
   "metadata": {
    "id": "egRuDt4vjmFN"
   },
   "outputs": [],
   "source": [
    "#integrate model ke api\n",
    "\n",
    "from flask import Flask, request, jsonify\n",
    "\n",
    "app = Flask(__name__)\n",
    "\n",
    "@app.route('/predict', methods=['POST'])\n",
    "def predict():\n",
    "    data = request.get_json(force=True)\n",
    "    prediction = best_rf_rfe.predict([data])\n",
    "    return jsonify({'prediction': prediction[0]})"
   ]
  }
 ],
 "metadata": {
  "colab": {
   "provenance": []
  },
  "kernelspec": {
   "display_name": "Python [conda env:base] *",
   "language": "python",
   "name": "conda-base-py"
  },
  "language_info": {
   "codemirror_mode": {
    "name": "ipython",
    "version": 3
   },
   "file_extension": ".py",
   "mimetype": "text/x-python",
   "name": "python",
   "nbconvert_exporter": "python",
   "pygments_lexer": "ipython3",
   "version": "3.12.7"
  }
 },
 "nbformat": 4,
 "nbformat_minor": 4
}
